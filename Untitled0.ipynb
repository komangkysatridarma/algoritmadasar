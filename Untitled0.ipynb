{
  "nbformat": 4,
  "nbformat_minor": 0,
  "metadata": {
    "colab": {
      "provenance": [],
      "authorship_tag": "ABX9TyPZTU5GV9vl4fYIYBE45Jyo"
    },
    "kernelspec": {
      "name": "python3",
      "display_name": "Python 3"
    },
    "language_info": {
      "name": "python"
    }
  },
  "cells": [
    {
      "cell_type": "code",
      "execution_count": null,
      "metadata": {
        "id": "qLBC6UoRSnpF"
      },
      "outputs": [],
      "source": [
        "price = 25000\n",
        "uang = 26000\n",
        "\n",
        "if price == uang:\n",
        "  print(\"uang pas\")\n",
        "elif price < uang:\n",
        "  print(\"uang lebih\")\n",
        "else: print(\"uang tidak cukup\")"
      ]
    },
    {
      "cell_type": "code",
      "source": [
        "uang = 10000\n",
        "if uang >= 26000:\n",
        "    print(\"Uang Cukup\")\n",
        "else:\n",
        "    print(\"Uang Tidak cukup\")"
      ],
      "metadata": {
        "id": "7eOqR2d_S7Ie"
      },
      "execution_count": null,
      "outputs": []
    },
    {
      "cell_type": "code",
      "source": [
        "x = 5\n",
        "print(type(x))\n",
        "\n",
        "x = 0.5\n",
        "print(type(x))\n",
        "\n",
        "x = \"hijau\"\n",
        "print(type(x))"
      ],
      "metadata": {
        "id": "ZWGBOmVMaGNS"
      },
      "execution_count": null,
      "outputs": []
    },
    {
      "cell_type": "code",
      "source": [
        "print(\"Komang \" + \"Kysa\")\n",
        "print(\"Komang Kysa\")\n",
        "print(\"Komang \" * 50)"
      ],
      "metadata": {
        "id": "hwa74-KLaNI7"
      },
      "execution_count": null,
      "outputs": []
    },
    {
      "cell_type": "code",
      "source": [
        "price = 25000\n",
        "kondisi = 'baik'\n",
        "\n",
        "if kondisi == 'baik':\n",
        "  print(\"uang diterima\")\n",
        "else: print(\"uang tidak di terima\")"
      ],
      "metadata": {
        "id": "9ADer9_ebtGy"
      },
      "execution_count": null,
      "outputs": []
    },
    {
      "cell_type": "code",
      "source": [
        "(5*2) > (5*3)"
      ],
      "metadata": {
        "id": "-VPqxEEyfGgO"
      },
      "execution_count": null,
      "outputs": []
    },
    {
      "cell_type": "code",
      "source": [
        "for i in range(10):\n",
        "  print(\"saya tidak akan mengulangi nya lagi\")"
      ],
      "metadata": {
        "id": "WAfjuzxHgAzg"
      },
      "execution_count": null,
      "outputs": []
    },
    {
      "cell_type": "code",
      "source": [
        "j = 0\n",
        "while j<=10:\n",
        "  print(j)\n",
        "  j = j + 1"
      ],
      "metadata": {
        "id": "7gvT1jRSgf0J"
      },
      "execution_count": null,
      "outputs": []
    },
    {
      "cell_type": "code",
      "source": [
        "for i in range(10):\n",
        "  print(i)"
      ],
      "metadata": {
        "id": "TbM-8Aw1gv4I"
      },
      "execution_count": null,
      "outputs": []
    },
    {
      "cell_type": "code",
      "source": [
        "total = 0\n",
        "for i in range(2,6):\n",
        "  total = total + i\n",
        "\n",
        "  print(total)"
      ],
      "metadata": {
        "id": "omLO_eANhGYn"
      },
      "execution_count": null,
      "outputs": []
    },
    {
      "cell_type": "code",
      "source": [
        "for i in range(1,11,2):\n",
        "  print(i, end = \"\")"
      ],
      "metadata": {
        "id": "HiiyEh3thvsC"
      },
      "execution_count": null,
      "outputs": []
    },
    {
      "cell_type": "code",
      "source": [
        "for i in range(1,6):\n",
        "  for j in range(1,3):\n",
        "    print(\"Ini lorong ke-\", i, \" Kamar ke-\",j)"
      ],
      "metadata": {
        "id": "g6_07BnkiHws"
      },
      "execution_count": null,
      "outputs": []
    },
    {
      "cell_type": "code",
      "source": [
        "lanjut = True\n",
        "while(lanjut):\n",
        " option = input(\"lanjut atau tidak? (y/n)\")\n",
        " if(option == 'n'):\n",
        "  lanjut == False\n",
        "  print(\"Program Berhenti\")"
      ],
      "metadata": {
        "id": "Ty4KZ0Gnii2l"
      },
      "execution_count": null,
      "outputs": []
    },
    {
      "cell_type": "code",
      "source": [
        "username = \"universitas\"\n",
        "password = \"pertamina\"\n",
        "kesempatan = 3\n",
        "\n",
        "while(kesempatan >= 3):\n",
        "  username_user = input(\"Masukkan Username \")\n",
        "  password_user = input(\"Masukkan Password\")\n",
        "\n",
        "  if(username == username_user and password == password_user):\n",
        "    print(\"Login berhasil!\")\n",
        "    break\n",
        "  else:\n",
        "    kesempatan = 1\n",
        "    print(\"Kesempatan tersisa {} kali lagi\".format(kesempatan))"
      ],
      "metadata": {
        "colab": {
          "base_uri": "https://localhost:8080/"
        },
        "id": "OuU0puYWjXaF",
        "outputId": "ba271af5-6e8e-438b-be29-f51801012f26"
      },
      "execution_count": null,
      "outputs": [
        {
          "output_type": "stream",
          "name": "stdout",
          "text": [
            "Masukkan Username universitas\n",
            "Masukkan Passwordpertamina\n",
            "Login berhasil!\n"
          ]
        }
      ]
    },
    {
      "cell_type": "code",
      "source": [
        "def perkalian(angka1,angka2):\n",
        "  return angka1 * angka2\n",
        "\n",
        "  hasil = perkalian(10,2)\n",
        "  print(hasil)"
      ],
      "metadata": {
        "id": "JFWgPqk5lXxY"
      },
      "execution_count": null,
      "outputs": []
    },
    {
      "cell_type": "code",
      "source": [
        "def tambahHippo():\n",
        "  hippos = 0\n",
        "  answer = 'y'\n",
        "\n",
        "  while answer == 'y':\n",
        "    hippos = hippos + 1\n",
        "    print(\"Ada {} Hippo\".format(hippos))\n",
        "    answer = input(\"Tambahkan Hippo (y/n)\")\n",
        "\n",
        "tambahHippo()"
      ],
      "metadata": {
        "id": "4p4N94JLlx4x"
      },
      "execution_count": null,
      "outputs": []
    }
  ]
}